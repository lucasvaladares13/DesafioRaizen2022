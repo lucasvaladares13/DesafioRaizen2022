{
 "cells": [
  {
   "cell_type": "code",
   "execution_count": 1,
   "metadata": {},
   "outputs": [],
   "source": [
    "import pandas as pd\n",
    "from datetime import datetime\n"
   ]
  },
  {
   "cell_type": "code",
   "execution_count": 2,
   "metadata": {},
   "outputs": [],
   "source": [
    "raw_file = './dados/0_raw/vendas-combustiveis-m3.xls'\n",
    "trust_path = './dados/1_trusted/'"
   ]
  },
  {
   "cell_type": "code",
   "execution_count": 3,
   "metadata": {},
   "outputs": [],
   "source": [
    "produtc_list = ['ÓLEO DIESEL TOTAL','GLP TOTAL']\n",
    "list_mes = ['JANEIRO','FEVEREIRO','MARÇO','ABRIL','MAIO','JUNHO','JULHO','AGOSTO','SETEMBRO','OUTUBRO','NOVEMBRO','DEZEMBRO']\n",
    "list_ano = str(list(range(1995,2023))).strip('[]').split(', ')"
   ]
  },
  {
   "cell_type": "code",
   "execution_count": 7,
   "metadata": {},
   "outputs": [],
   "source": [
    "df = pd.read_excel(raw_file, keep_default_na=False)\n",
    "#df['Unnamed: 1'].tolist()"
   ]
  },
  {
   "cell_type": "code",
   "execution_count": 4,
   "metadata": {},
   "outputs": [],
   "source": [
    "def get_idx_product(df,prod_list):\n",
    "    table_idx = {}\n",
    "    for prod in prod_list:\n",
    "        list_idx = list(df[df['Unnamed: 1'].str.contains(prod)].index)\n",
    "        table_idx[prod] = list_idx\n",
    "    #print(table_idx)\n",
    "    return table_idx"
   ]
  },
  {
   "cell_type": "code",
   "execution_count": 5,
   "metadata": {},
   "outputs": [],
   "source": [
    "def get_table(df,idx,list_mes,list_ano,product):\n",
    "    dt = df.iloc[idx:idx+18].copy()\n",
    "    \n",
    "    \n",
    "    unit = dt.loc[df['Unnamed: 1'].str.contains(product),'Unnamed: 1'].iloc[0]\n",
    "    unit = unit.split('(')[-1].strip(')')\n",
    "    #print(unit)\n",
    "    uf = dt.loc[(dt['Unnamed: 1'].str.contains('FED')) | (dt['Unnamed: 1'].str.contains('REG')),'Unnamed: 2'].iloc[0]\n",
    "    uf = uf.split('(')[-1].strip(')')\n",
    "    print(uf)\n",
    "    columns = dt.loc[dt['Unnamed: 1'].eq('Dados'),].reset_index(drop = True)\n",
    "    dt.columns = columns.iloc[0]\n",
    "    dt = dt[dt.Dados.str.upper().isin(list_mes)]\n",
    "\n",
    "    list_columns = list(dt.columns)\n",
    "    list_columns = list(filter(lambda x: str(x) in list_ano, list_columns))\n",
    "    columns = ['Dados']\n",
    "    for column in list_columns:\n",
    "        dt = dt.rename(columns = {column:f'cl_{column}'})\n",
    "        columns.extend([f'cl_{column}'])\n",
    "    dt = dt[columns].reset_index(drop=True)\n",
    "    dt['Dados'] = dt['Dados'].str.upper()\n",
    "    dt['product'] = product\n",
    "    dt['unit'] = unit\n",
    "    dt['uf'] = uf\n",
    "\n",
    "    return  dt\n"
   ]
  },
  {
   "cell_type": "code",
   "execution_count": 8,
   "metadata": {},
   "outputs": [
    {
     "data": {
      "text/plain": [
       "{'ÓLEO DIESEL TOTAL': [126, 164, 345], 'GLP TOTAL': [203, 239]}"
      ]
     },
     "execution_count": 8,
     "metadata": {},
     "output_type": "execute_result"
    }
   ],
   "source": [
    "table_ref = get_idx_product(df,produtc_list)\n",
    "table_ref"
   ]
  },
  {
   "cell_type": "code",
   "execution_count": 9,
   "metadata": {},
   "outputs": [
    {
     "name": "stdout",
     "output_type": "stream",
     "text": [
      "[126, 164, 345]\n",
      "Tudo\n",
      "Tudo\n",
      "Tudo\n",
      "[203, 239]\n",
      "Tudo\n",
      "Tudo\n"
     ]
    }
   ],
   "source": [
    "for key in table_ref.keys():\n",
    "\n",
    "    print(table_ref[key])\n",
    "    for idx in table_ref[key]:\n",
    "        dt = get_table(df,idx,list_mes,list_ano,key)\n",
    "        \n",
    "        dt.to_csv(f'{trust_path}/{idx}_tables_{datetime.utcnow().strftime(\"%Y-%m-%d_%H.%M.%S\")}.csv', index = False)\n",
    "\n",
    "        \n",
    "#dt = get_table(df,126,list_mes,list_ano)\n",
    "#dt"
   ]
  }
 ],
 "metadata": {
  "kernelspec": {
   "display_name": "Python 3.9.10 ('.venv': venv)",
   "language": "python",
   "name": "python3"
  },
  "language_info": {
   "codemirror_mode": {
    "name": "ipython",
    "version": 3
   },
   "file_extension": ".py",
   "mimetype": "text/x-python",
   "name": "python",
   "nbconvert_exporter": "python",
   "pygments_lexer": "ipython3",
   "version": "3.9.10"
  },
  "orig_nbformat": 4,
  "vscode": {
   "interpreter": {
    "hash": "99417f8eeb9b8eba8479936a4626ac3edbc17472a08ac5853e76fc1ddc051783"
   }
  }
 },
 "nbformat": 4,
 "nbformat_minor": 2
}

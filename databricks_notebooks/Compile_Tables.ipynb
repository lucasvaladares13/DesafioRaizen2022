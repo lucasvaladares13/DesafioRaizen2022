{
 "cells": [
  {
   "cell_type": "code",
   "execution_count": null,
   "metadata": {},
   "outputs": [],
   "source": [
    "%python\n",
    "spark.conf.set(\"fs.azure.account.auth.type.stdesafioraizen.dfs.core.windows.net\", \"SAS\")\n",
    "spark.conf.set(\"fs.azure.sas.token.provider.type.stdesafioraizen.dfs.core.windows.net\", \"org.apache.hadoop.fs.azurebfs.sas.FixedSASTokenProvider\")\n",
    "spark.conf.set(\"fs.azure.sas.fixed.token.stdesafioraizen.dfs.core.windows.net\", \"sv=2022-11-02&ss=bfqt&srt=sco&sp=rwdlacupyx&se=2024-11-23T06:46:05Z&st=2023-11-22T22:46:05Z&spr=https,http&sig=6A67WaiIgJOgEbqMtYdPVMuQeueKtpmyZ9k%2Fa2Pd77E%3D\")"
   ]
  },
  {
   "cell_type": "code",
   "execution_count": null,
   "metadata": {},
   "outputs": [],
   "source": [
    "%python\n",
    "import pathlib\n",
    "import sys\n",
    "from pyspark.sql import SparkSession\n",
    "from pyspark.sql.functions import when, regexp_replace, lit,format_string,current_timestamp,to_date"
   ]
  },
  {
   "cell_type": "code",
   "execution_count": null,
   "metadata": {},
   "outputs": [],
   "source": [
    "%python\n",
    "def unpivot_table(path):\n",
    "    df = spark.read.csv(path, inferSchema=True, header=True)\n",
    "    list_columns = df.columns\n",
    "    list_remove = ['Dados','product','unit','uf']\n",
    "    list_columns = list(set(list_columns) - set(list_remove))\n",
    "    \n",
    "    for col in list_columns:\n",
    "        table_name = f'dt_{col}'\n",
    "        year = col.split('_')[-1]\n",
    "        spark.catalog.dropTempView(table_name)\n",
    "        \n",
    "        df.createTempView(table_name)\n",
    "        df2 = spark.sql(f\"select Dados AS month,Dados AS month_num, uf, product, unit, {col} AS volume  from {table_name} where {col} IS NOT NULL\")\n",
    "        \n",
    "        df2 =   (\n",
    "                df2.withColumn('month_num', \n",
    "                             when(df2.month_num.endswith('JANEIRO'),regexp_replace(df2.month_num,'JANEIRO','01')) \n",
    "                            .when(df2.month_num.endswith('FEVEREIRO'),regexp_replace(df2.month_num,'FEVEREIRO','02')) \n",
    "                            .when(df2.month_num.endswith('MARÇO'),regexp_replace(df2.month_num,'MARÇO','03')) \n",
    "                            .when(df2.month_num.endswith('ABRIL'),regexp_replace(df2.month_num,'ABRIL','04')) \n",
    "                            .when(df2.month_num.endswith('MAIO'),regexp_replace(df2.month_num,'MAIO','05')) \n",
    "                            .when(df2.month_num.endswith('JUNHO'),regexp_replace(df2.month_num,'JUNHO','06')) \n",
    "                            .when(df2.month_num.endswith('JULHO'),regexp_replace(df2.month_num,'JULHO','07')) \n",
    "                            .when(df2.month_num.endswith('AGOSTO'),regexp_replace(df2.month_num,'AGOSTO','08')) \n",
    "                            .when(df2.month_num.endswith('SETEMBRO'),regexp_replace(df2.month_num,'SETEMBRO','09')) \n",
    "                            .when(df2.month_num.endswith('OUTUBRO'),regexp_replace(df2.month_num,'OUTUBRO','10')) \n",
    "                            .when(df2.month_num.endswith('NOVEMBRO'),regexp_replace(df2.month_num,'NOVEMBRO','11')) \n",
    "                            .when(df2.month_num.endswith('DEZEMBRO'),regexp_replace(df2.month_num,'DEZEMBRO','12')) \n",
    "                            .otherwise(df2.month_num)))\n",
    "\n",
    "        df2 = df2.select(   '*',   \n",
    "                            lit(year).alias(\"year\"), \n",
    "                            current_timestamp().alias(\"created_at\"))\n",
    "\n",
    "        df2 = df2.select(   '*',to_date(\n",
    "                                        format_string(  \"%s/%s\",\n",
    "                                                        df2.year,\n",
    "                                                        df2.month_num),\n",
    "                                        \"yyyy/MM\")\n",
    "                                .alias(\"year_month\"))        \n",
    "\n",
    "        df2 = df2.select('year_month','uf','product','unit','volume','created_at')\n",
    "        \n",
    "        try: \n",
    "            df_export = df_export.unionAll(df2)\n",
    "        \n",
    "        except:\n",
    "            df_export = df2\n",
    "\n",
    "\n",
    "    spark.catalog.dropTempView(table_name)\n",
    "\n",
    "    return df_export"
   ]
  },
  {
   "cell_type": "code",
   "execution_count": null,
   "metadata": {},
   "outputs": [],
   "source": [
    "%python\n",
    "def join_csv(list_files):\n",
    "\n",
    "    \n",
    "    for file in list_files:\n",
    "        file = str(file)\n",
    "        print(str(file))\n",
    "        df = unpivot_table(file)\n",
    "\n",
    "        try:\n",
    "            df_export = df_export.unionAll(df)\n",
    "        except:\n",
    "            df_export = df\n",
    "\n",
    "    return df_export"
   ]
  },
  {
   "cell_type": "code",
   "execution_count": null,
   "metadata": {},
   "outputs": [],
   "source": [
    "%python\n",
    "from pyspark.sql import SparkSession\n",
    "\n",
    "spark = SparkSession.builder.appName(\"ListFiles\").getOrCreate()\n",
    "\n",
    "path = f\"abfs://desafioraizen@stdesafioraizen.dfs.core.windows.net/processing/\"\n",
    "\n",
    "file_list = spark.read.format(\"binaryFile\").option(\"recursiveFileLookup\", \"true\").load(path)\n",
    "\n",
    "file_list.select(\"path\").show(truncate=False)\n",
    "file_paths_list = file_list.select(\"path\").collect()\n",
    "\n",
    "file_paths = [row.path for row in file_paths_list]\n",
    "\n",
    "print(file_paths)\n"
   ]
  },
  {
   "cell_type": "code",
   "execution_count": null,
   "metadata": {},
   "outputs": [],
   "source": [
    "%python\n",
    "df = join_csv(file_paths)\n",
    "\n",
    "df.show(1000)"
   ]
  },
  {
   "cell_type": "code",
   "execution_count": null,
   "metadata": {},
   "outputs": [],
   "source": [
    "df.write.parquet(\"abfs://desafioraizen@stdesafioraizen.dfs.core.windows.net/compiled/\", mode=\"overwrite\", partitionBy=['product', 'uf'])"
   ]
  }
 ],
 "metadata": {
  "language_info": {
   "name": "python"
  }
 },
 "nbformat": 4,
 "nbformat_minor": 2
}

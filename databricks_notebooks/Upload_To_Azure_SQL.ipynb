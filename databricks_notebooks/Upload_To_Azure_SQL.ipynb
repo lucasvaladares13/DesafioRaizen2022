{
 "cells": [
  {
   "cell_type": "code",
   "execution_count": null,
   "metadata": {},
   "outputs": [],
   "source": [
    "%python\n",
    "spark.conf.set(\"fs.azure.account.auth.type.stdesafioraizen.dfs.core.windows.net\", \"SAS\")\n",
    "spark.conf.set(\"fs.azure.sas.token.provider.type.stdesafioraizen.dfs.core.windows.net\", \"org.apache.hadoop.fs.azurebfs.sas.FixedSASTokenProvider\")\n",
    "spark.conf.set(\"fs.azure.sas.fixed.token.stdesafioraizen.dfs.core.windows.net\", \"sv=2022-11-02&ss=bfqt&srt=sco&sp=rwdlacupyx&se=2024-11-23T06:46:05Z&st=2023-11-22T22:46:05Z&spr=https,http&sig=6A67WaiIgJOgEbqMtYdPVMuQeueKtpmyZ9k%2Fa2Pd77E%3D\")"
   ]
  },
  {
   "cell_type": "code",
   "execution_count": null,
   "metadata": {},
   "outputs": [],
   "source": [
    "from pyspark.sql import SparkSession\n",
    "\n",
    "spark = SparkSession.builder.appName(\"example\").getOrCreate()\n",
    "\n",
    "parquet_path = \"abfss://desafioraizen@stdesafioraizen.dfs.core.windows.net/compiled/\"\n",
    "\n",
    "df_from_parquet = spark.read.parquet(parquet_path)\n",
    "df_from_parquet.show()"
   ]
  },
  {
   "cell_type": "code",
   "execution_count": null,
   "metadata": {},
   "outputs": [],
   "source": [
    "jdbcHostname = \"desafioraizen.database.windows.net\"\n",
    "jdbcPort = \"1433\"\n",
    "jdbcDatabase = \"db_desafio_raizen\"\n",
    "properties = {\n",
    " \"user\" : \"lucas.oliveira\",\n",
    " \"password\" : \"***********\" }"
   ]
  },
  {
   "cell_type": "code",
   "execution_count": null,
   "metadata": {},
   "outputs": [],
   "source": [
    "url = \"jdbc:sqlserver://{0}:{1};database={2}\".format(jdbcHostname,jdbcPort,jdbcDatabase)\n"
   ]
  },
  {
   "cell_type": "code",
   "execution_count": null,
   "metadata": {},
   "outputs": [],
   "source": [
    "from pyspark.sql import *\n",
    "import pandas as pd\n",
    "df = DataFrameWriter(df_from_parquet)\n",
    "df.jdbc(url=url, table= \"DesafioRaize\", mode =\"overwrite\", properties = properties)"
   ]
  }
 ],
 "metadata": {
  "language_info": {
   "name": "python"
  }
 },
 "nbformat": 4,
 "nbformat_minor": 2
}
